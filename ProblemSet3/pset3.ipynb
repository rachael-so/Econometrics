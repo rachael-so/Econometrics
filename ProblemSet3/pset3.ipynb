{
 "cells": [
  {
   "cell_type": "code",
   "execution_count": 28,
   "id": "fdfdd02d-56d5-4600-8b3b-0a22217fc8cc",
   "metadata": {},
   "outputs": [],
   "source": [
    "import numpy as np\n",
    "import pandas as pd\n",
    "from scipy.optimize import minimize\n",
    "import statsmodels.api as sm\n",
    "import os\n",
    "import sympy as sp"
   ]
  },
  {
   "cell_type": "code",
   "execution_count": 2,
   "id": "514d8110-83e9-4d42-81dc-93293eee5425",
   "metadata": {},
   "outputs": [
    {
     "data": {
      "text/html": [
       "<div>\n",
       "<style scoped>\n",
       "    .dataframe tbody tr th:only-of-type {\n",
       "        vertical-align: middle;\n",
       "    }\n",
       "\n",
       "    .dataframe tbody tr th {\n",
       "        vertical-align: top;\n",
       "    }\n",
       "\n",
       "    .dataframe thead th {\n",
       "        text-align: right;\n",
       "    }\n",
       "</style>\n",
       "<table border=\"1\" class=\"dataframe\">\n",
       "  <thead>\n",
       "    <tr style=\"text-align: right;\">\n",
       "      <th></th>\n",
       "      <th>0</th>\n",
       "      <th>1</th>\n",
       "      <th>2</th>\n",
       "      <th>3</th>\n",
       "      <th>4</th>\n",
       "      <th>5</th>\n",
       "      <th>6</th>\n",
       "      <th>7</th>\n",
       "      <th>8</th>\n",
       "      <th>9</th>\n",
       "      <th>10</th>\n",
       "    </tr>\n",
       "  </thead>\n",
       "  <tbody>\n",
       "    <tr>\n",
       "      <th>0</th>\n",
       "      <td>3.1724</td>\n",
       "      <td>2.8375</td>\n",
       "      <td>3.7785</td>\n",
       "      <td>3.5897</td>\n",
       "      <td>3.4087</td>\n",
       "      <td>3.1824</td>\n",
       "      <td>3.6491</td>\n",
       "      <td>2.6932</td>\n",
       "      <td>3.0921</td>\n",
       "      <td>3.0286</td>\n",
       "      <td>3.3037</td>\n",
       "    </tr>\n",
       "    <tr>\n",
       "      <th>1</th>\n",
       "      <td>4.1398</td>\n",
       "      <td>7.9196</td>\n",
       "      <td>6.7298</td>\n",
       "      <td>5.6753</td>\n",
       "      <td>4.2230</td>\n",
       "      <td>2.3601</td>\n",
       "      <td>3.4464</td>\n",
       "      <td>4.6142</td>\n",
       "      <td>5.5848</td>\n",
       "      <td>4.3622</td>\n",
       "      <td>9.2881</td>\n",
       "    </tr>\n",
       "    <tr>\n",
       "      <th>2</th>\n",
       "      <td>5.2950</td>\n",
       "      <td>4.9544</td>\n",
       "      <td>4.8649</td>\n",
       "      <td>5.3206</td>\n",
       "      <td>5.7243</td>\n",
       "      <td>4.4856</td>\n",
       "      <td>4.4806</td>\n",
       "      <td>5.1001</td>\n",
       "      <td>5.0569</td>\n",
       "      <td>7.0589</td>\n",
       "      <td>7.0985</td>\n",
       "    </tr>\n",
       "    <tr>\n",
       "      <th>3</th>\n",
       "      <td>3.8113</td>\n",
       "      <td>3.8997</td>\n",
       "      <td>4.3631</td>\n",
       "      <td>4.5150</td>\n",
       "      <td>4.8445</td>\n",
       "      <td>4.6112</td>\n",
       "      <td>5.1696</td>\n",
       "      <td>4.7046</td>\n",
       "      <td>4.8564</td>\n",
       "      <td>4.7662</td>\n",
       "      <td>5.3897</td>\n",
       "    </tr>\n",
       "    <tr>\n",
       "      <th>4</th>\n",
       "      <td>2.2322</td>\n",
       "      <td>1.9871</td>\n",
       "      <td>2.4561</td>\n",
       "      <td>2.2988</td>\n",
       "      <td>3.7832</td>\n",
       "      <td>3.9397</td>\n",
       "      <td>4.1684</td>\n",
       "      <td>3.8104</td>\n",
       "      <td>3.9173</td>\n",
       "      <td>3.2493</td>\n",
       "      <td>2.8749</td>\n",
       "    </tr>\n",
       "  </tbody>\n",
       "</table>\n",
       "</div>"
      ],
      "text/plain": [
       "       0       1       2       3       4       5       6       7       8   \\\n",
       "0  3.1724  2.8375  3.7785  3.5897  3.4087  3.1824  3.6491  2.6932  3.0921   \n",
       "1  4.1398  7.9196  6.7298  5.6753  4.2230  2.3601  3.4464  4.6142  5.5848   \n",
       "2  5.2950  4.9544  4.8649  5.3206  5.7243  4.4856  4.4806  5.1001  5.0569   \n",
       "3  3.8113  3.8997  4.3631  4.5150  4.8445  4.6112  5.1696  4.7046  4.8564   \n",
       "4  2.2322  1.9871  2.4561  2.2988  3.7832  3.9397  4.1684  3.8104  3.9173   \n",
       "\n",
       "       9       10  \n",
       "0  3.0286  3.3037  \n",
       "1  4.3622  9.2881  \n",
       "2  7.0589  7.0985  \n",
       "3  4.7662  5.3897  \n",
       "4  3.2493  2.8749  "
      ]
     },
     "execution_count": 2,
     "metadata": {},
     "output_type": "execute_result"
    }
   ],
   "source": [
    "df = pd.read_csv('card_wage_2008.txt', sep=r'\\s+', header=None)\n",
    "df.head()"
   ]
  },
  {
   "cell_type": "code",
   "execution_count": 3,
   "id": "b50dea9a-9e50-4df8-a38d-48ef81d9ab46",
   "metadata": {},
   "outputs": [
    {
     "name": "stdout",
     "output_type": "stream",
     "text": [
      "################ part a ################\n"
     ]
    },
    {
     "data": {
      "text/plain": [
       "(1302, 11)"
      ]
     },
     "execution_count": 3,
     "metadata": {},
     "output_type": "execute_result"
    }
   ],
   "source": [
    "print(\"################ part a ################\")\n",
    "shifted_df = df.shift(axis=1)\n",
    "factor_change = (df > shifted_df * 10) | (df < shifted_df / 10)\n",
    "rows_to_drop = factor_change.any(axis=1)\n",
    "df = df[~rows_to_drop].reset_index(drop=True)\n",
    "df.shape"
   ]
  },
  {
   "cell_type": "code",
   "execution_count": 37,
   "id": "60076d93-dad3-44fa-a43d-0664a6215812",
   "metadata": {},
   "outputs": [
    {
     "name": "stdout",
     "output_type": "stream",
     "text": [
      "################ part d ################\n",
      "Average psi1 at θ = 0.3: 1.0761692899877084\n",
      "Average psi2 at θ = 0.3: 1.569793182499232\n"
     ]
    }
   ],
   "source": [
    "print(\"################ part d ################\")\n",
    "theta = 0.3\n",
    "num_individuals = df.shape[0]\n",
    "total_moments_psi1 = 0\n",
    "total_moments_psi2 = 0\n",
    "\n",
    "for i in range(num_individuals):\n",
    "    Y_i = df.iloc[i, :4]  # wage data for first 4 years\n",
    "\n",
    "    # psi_1\n",
    "    psi_13 = Y_i[0] * (Y_i[2] - Y_i[1] - theta * (Y_i[1] - Y_i[0]))\n",
    "    psi_14 = Y_i[0] * (Y_i[3] - Y_i[2] - theta * (Y_i[2] - Y_i[1]))\n",
    "    total_moments_psi1 += (psi_13 + psi_14)\n",
    "\n",
    "    # psi_2\n",
    "    psi_23 = (Y_i[1] - Y_i[0]) * (Y_i[2] - theta * Y_i[1])\n",
    "    psi_24 = (Y_i[1] - Y_i[0]) * (Y_i[3] - theta * Y_i[2])\n",
    "    psi_34 = (Y_i[2] - Y_i[1]) * (Y_i[3] - theta * Y_i[2])\n",
    "    total_moments_psi2 += (psi_23 + psi_24 + psi_34)\n",
    "\n",
    "# Calculate average moments\n",
    "avg_moments_psi1 = total_moments_psi1 / num_individuals\n",
    "avg_moments_psi2 = total_moments_psi2 / num_individuals\n",
    "\n",
    "print(\"Average psi1 at θ = 0.3:\", avg_moments_psi1)\n",
    "print(\"Average psi2 at θ = 0.3:\", avg_moments_psi2)"
   ]
  },
  {
   "cell_type": "code",
   "execution_count": 36,
   "id": "e36b14be-c0ee-4a5d-9b40-b7e579e961dd",
   "metadata": {},
   "outputs": [
    {
     "name": "stdout",
     "output_type": "stream",
     "text": [
      "################ part e ################\n",
      "objective function value at θ = 0.3: 3.6223909765337154\n"
     ]
    }
   ],
   "source": [
    "print(\"################ part e ################\")\n",
    "moments = np.array([avg_moments_psi1, avg_moments_psi2]) # array of average moments from part d\n",
    "W = np.identity(len(moments)) # identity matrix as weight matrix (2x2 because we have 2 moment conditions)\n",
    "\n",
    "# GMM objective function Q(θ)= g_bar(θ)' * W * g_bar(θ)\n",
    "Q_theta = moments.T @ W @ moments\n",
    "\n",
    "print(\"objective function value at θ = 0.3:\", Q_theta)"
   ]
  },
  {
   "cell_type": "code",
   "execution_count": 41,
   "id": "7e1af744-7d57-4675-9bb6-9a7c92183752",
   "metadata": {},
   "outputs": [
    {
     "name": "stdout",
     "output_type": "stream",
     "text": [
      "################ part f ################\n",
      "Derivative of the objective function at θ = 0.3: -10.682992263540516\n"
     ]
    }
   ],
   "source": [
    "print(\"################ part f ################\")\n",
    "total_d_psi1_dtheta = 0\n",
    "total_d_psi2_dtheta = 0\n",
    "\n",
    "for i in range(num_individuals):\n",
    "    Y_i = df.iloc[i, :4]\n",
    "\n",
    "    # psi_1 derivatives\n",
    "    d_psi13_dtheta = -Y_i[0] * (Y_i[1] - Y_i[0])\n",
    "    d_psi14_dtheta = -Y_i[0] * (Y_i[2] - Y_i[1])\n",
    "    total_d_psi1_dtheta += (d_psi13_dtheta + d_psi14_dtheta)\n",
    "\n",
    "    # psi_2 derivatives\n",
    "    d_psi23_dtheta = - (Y_i[1] - Y_i[0]) * Y_i[1]\n",
    "    d_psi24_dtheta = - (Y_i[1] - Y_i[0]) * Y_i[2]\n",
    "    d_psi34_dtheta = - (Y_i[2] - Y_i[1]) * Y_i[2]\n",
    "    total_d_psi2_dtheta += (d_psi23_dtheta + d_psi24_dtheta + d_psi34_dtheta)\n",
    "\n",
    "# average derivatives\n",
    "avg_d_psi1_dtheta = total_d_psi1_dtheta / num_individuals\n",
    "avg_d_psi2_dtheta = total_d_psi2_dtheta / num_individuals\n",
    "avg_d_psi_dtheta = np.array([avg_d_psi1_dtheta, avg_d_psi2_dtheta]) # average derivative vector\n",
    "\n",
    "# derivative of the objective function\n",
    "dQ_dtheta = 2 * avg_d_psi_dtheta.T @ W @ moments\n",
    "print(f\"Derivative of the objective function at θ = 0.3: {dQ_dtheta}\")"
   ]
  },
  {
   "cell_type": "code",
   "execution_count": 49,
   "id": "54da6add-c162-457f-b870-4c5716a3acc8",
   "metadata": {},
   "outputs": [
    {
     "name": "stdout",
     "output_type": "stream",
     "text": [
      "################ part g ################\n",
      "Estimated value of θ: 0.7271108240545127\n"
     ]
    }
   ],
   "source": [
    "print(\"################ part g ################\")\n",
    "# define GMM objective function using code from above\n",
    "def gmm_objective(theta, data, W=np.eye(2)):\n",
    "    num_individuals = data.shape[0]\n",
    "    total_psi1 = 0\n",
    "    total_psi2 = 0\n",
    "\n",
    "    for i in range(num_individuals):\n",
    "        Y_i = data.iloc[i, :4]\n",
    "\n",
    "        # psi_1\n",
    "        psi_13 = Y_i[0] * (Y_i[2] - Y_i[1] - theta * (Y_i[1] - Y_i[0]))\n",
    "        psi_14 = Y_i[0] * (Y_i[3] - Y_i[2] - theta * (Y_i[2] - Y_i[1]))\n",
    "        total_psi1 += (psi_13 + psi_14)\n",
    "\n",
    "        # psi_2\n",
    "        psi_23 = (Y_i[1] - Y_i[0]) * (Y_i[2] - theta * Y_i[1])\n",
    "        psi_24 = (Y_i[1] - Y_i[0]) * (Y_i[3] - theta * Y_i[2])\n",
    "        psi_34 = (Y_i[2] - Y_i[1]) * (Y_i[3] - theta * Y_i[2])\n",
    "        total_psi2 += (psi_23 + psi_24 + psi_34)\n",
    "\n",
    "    avg_psi1 = total_psi1 / num_individuals\n",
    "    avg_psi2 = total_psi2 / num_individuals\n",
    "    moments = np.array([avg_psi1, avg_psi2])\n",
    "    Q_theta = moments.T @ W @ moments\n",
    "\n",
    "    return Q_theta\n",
    "\n",
    "# minimize GMM objective function starting from θ = 0.3\n",
    "result = minimize(gmm_objective, x0=0.3, args=(df,), bounds=[(0, 1)], method='L-BFGS-B')\n",
    "\n",
    "# get theta hat\n",
    "theta_hat = result.x[0]\n",
    "print(f\"Estimated value of θ: {theta_hat}\")"
   ]
  },
  {
   "cell_type": "code",
   "execution_count": 50,
   "id": "5c33b6bb-06ab-45e5-b631-54eab1431ea7",
   "metadata": {},
   "outputs": [
    {
     "name": "stdout",
     "output_type": "stream",
     "text": [
      "################ part h ################\n",
      "Optimal Weight Matrix:\n",
      "[[0.00533503 0.00158904]\n",
      " [0.00158904 0.00669447]]\n"
     ]
    }
   ],
   "source": [
    "print(\"################ part h ################\")\n",
    "# function to compute the moment conditions for all individuals\n",
    "def calculate_moments(theta, data):\n",
    "    num_individuals = data.shape[0]\n",
    "    moments = []\n",
    "\n",
    "    for i in range(num_individuals):\n",
    "        Y_i = data.iloc[i, :4]\n",
    "\n",
    "        # Calculate individual moment functions\n",
    "        psi_13 = Y_i[0] * (Y_i[2] - Y_i[1] - theta * (Y_i[1] - Y_i[0]))\n",
    "        psi_14 = Y_i[0] * (Y_i[3] - Y_i[2] - theta * (Y_i[2] - Y_i[1]))\n",
    "        psi_23 = (Y_i[1] - Y_i[0]) * (Y_i[2] - theta * Y_i[1])\n",
    "        psi_24 = (Y_i[1] - Y_i[0]) * (Y_i[3] - theta * Y_i[2])\n",
    "        psi_34 = (Y_i[2] - Y_i[1]) * (Y_i[3] - theta * Y_i[2])\n",
    "\n",
    "        # vector of moment functions\n",
    "        moments_i = np.array([psi_13 + psi_14, psi_23 + psi_24 + psi_34])\n",
    "        moments.append(moments_i)\n",
    "\n",
    "    return np.array(moments)\n",
    "\n",
    "moments_at_theta_hat = calculate_moments(theta_hat, df) # moments at theta_hat\n",
    "cov_matrix = np.cov(moments_at_theta_hat, rowvar=False) # variance-covariance matrix of moment conditions\n",
    "\n",
    "# calculate optimal weight matrix as the inverse of the covariance matrix\n",
    "optimal_weight_matrix = np.linalg.inv(cov_matrix)\n",
    "print(\"Optimal Weight Matrix:\")\n",
    "print(optimal_weight_matrix)"
   ]
  },
  {
   "cell_type": "code",
   "execution_count": 53,
   "id": "ad1d426e-a438-49d1-b888-85cd13850981",
   "metadata": {},
   "outputs": [
    {
     "name": "stdout",
     "output_type": "stream",
     "text": [
      "################ part i ################\n",
      "Second-step GMM estimate of θ: 0.8100605170108355\n"
     ]
    }
   ],
   "source": [
    "print(\"################ part i ################\")\n",
    "# second-step GMM: use the optimal weight matrix from part h\n",
    "result_second_step = minimize(\n",
    "    gmm_objective,\n",
    "    x0=theta_hat,  # start from first-step estimate\n",
    "    args=(df, optimal_weight_matrix),  # pass the optimal weight matrix\n",
    "    bounds=[(0, 1)],\n",
    "    method='L-BFGS-B'\n",
    ")\n",
    "\n",
    "theta_hat_second_step = result_second_step.x[0]\n",
    "print(f\"Second-step GMM estimate of θ: {theta_hat_second_step}\")"
   ]
  },
  {
   "cell_type": "code",
   "execution_count": null,
   "id": "9b41c825-b0f6-4fbf-b07a-685f37c8618b",
   "metadata": {},
   "outputs": [],
   "source": []
  }
 ],
 "metadata": {
  "kernelspec": {
   "display_name": "Python 3 (ipykernel)",
   "language": "python",
   "name": "python3"
  },
  "language_info": {
   "codemirror_mode": {
    "name": "ipython",
    "version": 3
   },
   "file_extension": ".py",
   "mimetype": "text/x-python",
   "name": "python",
   "nbconvert_exporter": "python",
   "pygments_lexer": "ipython3",
   "version": "3.12.4"
  }
 },
 "nbformat": 4,
 "nbformat_minor": 5
}
