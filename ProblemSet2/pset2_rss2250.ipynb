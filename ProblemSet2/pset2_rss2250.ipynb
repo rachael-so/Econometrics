{
 "cells": [
  {
   "cell_type": "code",
   "execution_count": 1,
   "id": "603faa17-6f46-4853-beef-c9d5aa09a6a1",
   "metadata": {},
   "outputs": [],
   "source": [
    "import numpy as np       # For numerical computations\n",
    "import pandas as pd      # For data manipulation and analysis\n",
    "import statsmodels.api as sm  # For econometric and statistical modeling\n",
    "import scipy.stats as stats   # For statistical methods (e.g., Delta method)\n",
    "import matplotlib.pyplot as plt  # For plotting (if needed for visualizations)\n",
    "from tqdm import tqdm"
   ]
  },
  {
   "cell_type": "code",
   "execution_count": 2,
   "id": "98f18249-6c43-4341-93b2-8904de922e76",
   "metadata": {},
   "outputs": [],
   "source": [
    "# read file into dataframe\n",
    "f = \"nls_2008.txt\"\n",
    "columns = ['luwe', 'educ', 'exper', 'age', 'fed', 'med', 'kww', 'iq', 'white']\n",
    "df = pd.read_csv(f, sep='\\t', header=None, names=columns)\n",
    "#print(df.head(10))"
   ]
  },
  {
   "cell_type": "code",
   "execution_count": 3,
   "id": "ca62b753-04d3-4c39-b4b2-423407de7bba",
   "metadata": {},
   "outputs": [
    {
     "name": "stdout",
     "output_type": "stream",
     "text": [
      "######### Problem 1 #########\n",
      "\n",
      "           luwe       educ      exper        age        fed        med  \\\n",
      "min   4.055853   9.000000   5.000000  28.000000   0.000000   0.000000   \n",
      "max   7.601318  18.000000  23.000000  38.000000  18.000000  18.000000   \n",
      "mean  5.945158  13.470968  13.623656  33.094624   8.122581   9.816129   \n",
      "std   0.442819   2.199353   3.827873   3.104161   5.072353   4.005588   \n",
      "\n",
      "            kww          iq     white  \n",
      "min   12.000000   50.000000  0.000000  \n",
      "max   56.000000  145.000000  1.000000  \n",
      "mean  35.787097  101.317204  0.873118  \n",
      "std    7.631576   15.050951  0.333020  \n"
     ]
    }
   ],
   "source": [
    "print(\"######### Problem 1 #########\")\n",
    "summary_stats = df.describe().loc[['min', 'max', 'mean', 'std']]\n",
    "print(\"\\n\",summary_stats)"
   ]
  },
  {
   "cell_type": "code",
   "execution_count": 4,
   "id": "27f8d4a1-5254-4b04-8cd6-8b835ee0a0ef",
   "metadata": {},
   "outputs": [
    {
     "name": "stdout",
     "output_type": "stream",
     "text": [
      "######### Problem 2 #########\n"
     ]
    }
   ],
   "source": [
    "print(\"######### Problem 2 #########\")\n",
    "\n",
    "# add column for experience-squared\n",
    "df['exper_squared'] = df['exper'] ** 2\n",
    "\n",
    "# define variables and fit model\n",
    "X = sm.add_constant(df[['educ', 'exper', 'exper_squared']])\n",
    "Y = df['luwe']\n",
    "model = sm.OLS(Y, X).fit()\n",
    "#print(model.summary())\n",
    "\n",
    "# fit robust model\n",
    "robust_model = sm.OLS(Y, X).fit(cov_type='HC0')"
   ]
  },
  {
   "cell_type": "code",
   "execution_count": 5,
   "id": "fadcf462-6303-4cb3-b923-e14e70ff105f",
   "metadata": {},
   "outputs": [
    {
     "name": "stdout",
     "output_type": "stream",
     "text": [
      "\n",
      "Conventional Estimates:\n",
      "const            4.030551\n",
      "educ             0.092514\n",
      "exper            0.076777\n",
      "exper_squared   -0.001886\n",
      "dtype: float64\n",
      "\n",
      "Conventional Standard Errors:\n",
      "const            0.223018\n",
      "educ             0.007581\n",
      "exper            0.025003\n",
      "exper_squared    0.000872\n",
      "dtype: float64\n",
      "\n",
      "Robust Estimates:\n",
      "const            4.030551\n",
      "educ             0.092514\n",
      "exper            0.076777\n",
      "exper_squared   -0.001886\n",
      "dtype: float64\n",
      "\n",
      "Robust Standard Errors:\n",
      "const            0.213784\n",
      "educ             0.007672\n",
      "exper            0.024257\n",
      "exper_squared    0.000851\n",
      "dtype: float64\n"
     ]
    }
   ],
   "source": [
    "# conventional model\n",
    "print(\"\\nConventional Estimates:\")\n",
    "print(model.params)\n",
    "print(\"\\nConventional Standard Errors:\")\n",
    "print(model.bse)\n",
    "\n",
    "# robust model\n",
    "print(\"\\nRobust Estimates:\")\n",
    "print(robust_model.params)\n",
    "print(\"\\nRobust Standard Errors:\")\n",
    "print(robust_model.bse)"
   ]
  },
  {
   "cell_type": "code",
   "execution_count": 6,
   "id": "69b0321f-0bf4-4173-aa81-371ad37d9160",
   "metadata": {},
   "outputs": [
    {
     "name": "stdout",
     "output_type": "stream",
     "text": [
      "Conventional Variance-Covariance Matrix\n",
      "                  const          educ     exper  exper_squared\n",
      "const          0.049737 -1.137084e-03 -0.004684   1.476767e-04\n",
      "educ          -0.001137  5.746865e-05  0.000035  -5.506074e-07\n",
      "exper         -0.004684  3.473218e-05  0.000625  -2.147994e-05\n",
      "exper_squared  0.000148 -5.506074e-07 -0.000021   7.609628e-07\n",
      "\n",
      "Robust Variance-Covariance Matrix\n",
      "                  const          educ     exper  exper_squared\n",
      "const          0.045704 -1.069321e-03 -0.004226   1.319140e-04\n",
      "educ          -0.001069  5.885960e-05  0.000021  -2.960741e-08\n",
      "exper         -0.004226  2.081008e-05  0.000588  -2.031156e-05\n",
      "exper_squared  0.000132 -2.960741e-08 -0.000020   7.244931e-07\n"
     ]
    }
   ],
   "source": [
    "# variance-covariance matrices\n",
    "print(\"Conventional Variance-Covariance Matrix\")\n",
    "print(model.cov_params())\n",
    "print(\"\\nRobust Variance-Covariance Matrix\")\n",
    "print(robust_model.cov_params())"
   ]
  },
  {
   "cell_type": "code",
   "execution_count": 7,
   "id": "a95982db-2b5c-407a-b75e-09e8c72a15f9",
   "metadata": {},
   "outputs": [
    {
     "name": "stdout",
     "output_type": "stream",
     "text": [
      "Conventional Residual Variance: 0.16807722965494284\n",
      "Conventional Residual Variance: 0.16807722965494284\n"
     ]
    }
   ],
   "source": [
    "# calculate residual variance\n",
    "resid_var = np.var(model.resid, ddof=1)\n",
    "robust_resid_var = np.var(robust_model.resid, ddof=1)\n",
    "print(\"Conventional Residual Variance:\", resid_var)\n",
    "print(\"Conventional Residual Variance:\", robust_resid_var)"
   ]
  },
  {
   "cell_type": "code",
   "execution_count": 8,
   "id": "1d498562-0a24-4d20-88e4-bd904682a1f6",
   "metadata": {},
   "outputs": [
    {
     "name": "stdout",
     "output_type": "stream",
     "text": [
      "######### Problem 3 #########\n",
      "Effect on average log weekly wages of decreasing education by one year: -0.0690070952327817\n"
     ]
    }
   ],
   "source": [
    "print(\"######### Problem 3 #########\")\n",
    "\n",
    "# new dataframe with adjusted data for -1 education level\n",
    "df_educminus1 = df.copy()\n",
    "df_educminus1['educ'] = df_educminus1['educ'] - 1\n",
    "df_educminus1['exper'] = df_educminus1['age'] - df_educminus1['educ'] - 6\n",
    "df_educminus1['exper_squared'] = df_educminus1['exper'] ** 2\n",
    "\n",
    "# predict using problem 2 model\n",
    "X_educminus1 = sm.add_constant(df_educminus1[['educ', 'exper', 'exper_squared']])\n",
    "predicted_luwe_educminus1 = model.predict(X_educminus1)\n",
    "#print(predicted_luwe_educminus1)\n",
    "\n",
    "# calculate effect\n",
    "avg_luwe = df['luwe'].mean()\n",
    "avg_luwe_educminus1 = predicted_luwe_educminus1.mean()\n",
    "change_in_log_wages = avg_luwe_educminus1 - avg_luwe\n",
    "print(\"Effect on average log weekly wages of decreasing education by one year:\", change_in_log_wages)"
   ]
  },
  {
   "cell_type": "code",
   "execution_count": 9,
   "id": "a503f271-7f09-4b95-8e9f-35e61cd42fc2",
   "metadata": {},
   "outputs": [
    {
     "name": "stdout",
     "output_type": "stream",
     "text": [
      "######### Problem 4 #########\n",
      "Effect of decreasing education by one year (new_educ coefficient): 0.09251371046597111\n"
     ]
    }
   ],
   "source": [
    "print(\"######### Problem 4 #########\")\n",
    "\n",
    "# new covariates\n",
    "df['new_educ'] = df['educ'] - 1\n",
    "df['new_exper'] = df['exper'] + 1\n",
    "df['new_exper_squared'] = df['new_exper'] ** 2\n",
    "\n",
    "X_redefined = sm.add_constant(df[['new_educ', 'new_exper', 'new_exper_squared']])\n",
    "model_redefined = sm.OLS(df['luwe'], X_redefined).fit()\n",
    "#print(model_redefined.summary())\n",
    "print(\"Effect of decreasing education by one year (new_educ coefficient):\", model_redefined.params['new_educ'])"
   ]
  },
  {
   "cell_type": "code",
   "execution_count": 10,
   "id": "8f2a0714-6c3c-4dc6-a6cb-1c61a66941d4",
   "metadata": {},
   "outputs": [
    {
     "name": "stdout",
     "output_type": "stream",
     "text": [
      "The effect can be found but the result will be different.\n"
     ]
    }
   ],
   "source": [
    "print(\"The effect can be found but the result will be different.\")"
   ]
  },
  {
   "cell_type": "code",
   "execution_count": 11,
   "id": "c8dbd2e4-ad75-44fa-a070-44ee0091eb6d",
   "metadata": {},
   "outputs": [
    {
     "name": "stdout",
     "output_type": "stream",
     "text": [
      "######### Problem 5 #########\n",
      "Effect on average log weekly wages after increasing education to 12 years: 0.012329600532393847\n"
     ]
    }
   ],
   "source": [
    "print(\"######### Problem 5 #########\")\n",
    "\n",
    "# dataframe to reflect policy change\n",
    "df_policy = df.copy()\n",
    "df_policy['educ'] = df_policy['educ'].apply(lambda x: 12 if x < 12 else x)\n",
    "df_policy['exper'] = df_policy['age'] - df_policy['educ'] - 6\n",
    "df_policy['exper_squared'] = df_policy['exper'] ** 2\n",
    "\n",
    "# predict using problem 2 model\n",
    "X_policy = sm.add_constant(df_policy[['educ', 'exper', 'exper_squared']])\n",
    "predicted_luwe_policy = model.predict(X_policy)\n",
    "\n",
    "# calculate effect\n",
    "original_avg_luwe = df['luwe'].mean()\n",
    "policy_avg_luwe = predicted_luwe_policy.mean()\n",
    "policy_effect = policy_avg_luwe - original_avg_luwe\n",
    "print(\"Effect on average log weekly wages after increasing education to 12 years:\", policy_effect)"
   ]
  },
  {
   "cell_type": "code",
   "execution_count": 12,
   "id": "c950f319-5d93-49a7-9828-21e98995fb02",
   "metadata": {},
   "outputs": [
    {
     "name": "stdout",
     "output_type": "stream",
     "text": [
      "######### Problem 6 #########\n",
      "Standard error (conventional): 0.013527813507049036\n",
      "Standard error (robust): 0.013516957752480786\n"
     ]
    }
   ],
   "source": [
    "print(\"######### Problem 6 #########\")\n",
    "\n",
    "# delta method\n",
    "gradient = X_policy.mean().values  # mean of the covariates represents the average change\n",
    "var_conventional = np.dot(np.dot(gradient.T, model.cov_params()), gradient)\n",
    "var_robust = np.dot(np.dot(gradient.T, robust_model.cov_params()), gradient)\n",
    "\n",
    "# calculate the standard errors\n",
    "se_conventional = np.sqrt(var_conventional)\n",
    "se_robust = np.sqrt(var_robust)\n",
    "print(\"Standard error (conventional):\", se_conventional)\n",
    "print(\"Standard error (robust):\", se_robust)"
   ]
  },
  {
   "cell_type": "code",
   "execution_count": 13,
   "id": "e0cf65e4-5867-41fc-b740-1d0569a737d8",
   "metadata": {},
   "outputs": [
    {
     "name": "stdout",
     "output_type": "stream",
     "text": [
      "######### Problem 7 #########\n"
     ]
    },
    {
     "name": "stderr",
     "output_type": "stream",
     "text": [
      "100%|██████████████████████████████████████████████████████████████████| 100000/100000 [06:39<00:00, 250.48it/s]"
     ]
    },
    {
     "name": "stdout",
     "output_type": "stream",
     "text": [
      "Bootstrap standard error (conventional): 0.013485691151961146\n",
      "Bootstrap standard error (robust): 0.013485691151961146\n"
     ]
    },
    {
     "name": "stderr",
     "output_type": "stream",
     "text": [
      "\n"
     ]
    }
   ],
   "source": [
    "print(\"######### Problem 7 #########\")\n",
    "\n",
    "def bootstrap_effect(data, data_policy, model_conventional, model_robust):\n",
    "    # resample data with replacement\n",
    "    indices = np.random.choice(data.index, size=len(data), replace=True)\n",
    "    sample = data.loc[indices]\n",
    "    sample_policy = data_policy.loc[indices]\n",
    "    \n",
    "    # predict w/ conventional model\n",
    "    predicted_luwe_policy_conventional = model.predict(sm.add_constant(sample_policy[['educ', 'exper', 'exper_squared']])).mean()\n",
    "    original_luwe_mean_conventional = sample['luwe'].mean()\n",
    "    effect_conventional = predicted_luwe_policy_conventional - original_luwe_mean_conventional\n",
    "    \n",
    "    # predict w/ robust model\n",
    "    predicted_luwe_policy_robust = model_robust.predict(sm.add_constant(sample_policy[['educ', 'exper', 'exper_squared']])).mean()\n",
    "    original_luwe_mean_robust = sample['luwe'].mean()\n",
    "    effect_robust = predicted_luwe_policy_robust - original_luwe_mean_robust\n",
    "    \n",
    "    return effect_conventional, effect_robust\n",
    "\n",
    "# run bootstraps\n",
    "n_bootstraps = 100000\n",
    "bootstrap_results = [bootstrap_effect(df, df_policy, model, robust_model) for _ in tqdm(range(n_bootstraps))]\n",
    "bootstrap_conventional = [result[0] for result in bootstrap_results]\n",
    "bootstrap_robust = [result[1] for result in bootstrap_results]\n",
    "\n",
    "# standard error is calculated as the standard deviation of the bootstrap estimates\n",
    "bootstrap_se_conventional = np.std(bootstrap_conventional)\n",
    "bootstrap_se_robust = np.std(bootstrap_robust)\n",
    "print(\"Bootstrap standard error (conventional):\", bootstrap_se_conventional)\n",
    "print(\"Bootstrap standard error (robust):\", bootstrap_se_robust)"
   ]
  },
  {
   "cell_type": "code",
   "execution_count": 14,
   "id": "17cbd824-82a5-465b-905c-deffc4554ca8",
   "metadata": {},
   "outputs": [
    {
     "name": "stdout",
     "output_type": "stream",
     "text": [
      "The conventional and robust bootstrap standard errors are very similar to the analytic standard errors.\n"
     ]
    }
   ],
   "source": [
    "print(\"The conventional and robust bootstrap standard errors are very similar to the analytic standard errors.\")"
   ]
  },
  {
   "cell_type": "code",
   "execution_count": null,
   "id": "d79a2316-053c-45d4-bf24-4f114b38d019",
   "metadata": {},
   "outputs": [],
   "source": []
  }
 ],
 "metadata": {
  "kernelspec": {
   "display_name": "Python 3 (ipykernel)",
   "language": "python",
   "name": "python3"
  },
  "language_info": {
   "codemirror_mode": {
    "name": "ipython",
    "version": 3
   },
   "file_extension": ".py",
   "mimetype": "text/x-python",
   "name": "python",
   "nbconvert_exporter": "python",
   "pygments_lexer": "ipython3",
   "version": "3.12.4"
  }
 },
 "nbformat": 4,
 "nbformat_minor": 5
}
